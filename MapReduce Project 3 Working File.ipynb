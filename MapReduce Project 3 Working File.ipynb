{
 "cells": [
  {
   "cell_type": "code",
   "execution_count": 1,
   "metadata": {
    "collapsed": true
   },
   "outputs": [],
   "source": [
    "import sys\n",
    "import re\n",
    "\n"
   ]
  },
  {
   "cell_type": "code",
   "execution_count": 15,
   "metadata": {
    "collapsed": false
   },
   "outputs": [
    {
     "name": "stdout",
     "output_type": "stream",
     "text": [
      "Enter your name: dana swanstrom\n"
     ]
    }
   ],
   "source": [
    "vowels = 'aeiou'    \n",
    "line = input('Enter your name: ')    \n",
    "pattern = re.compile('a-zA-Z0-9+')\n",
    "\n",
    "for word in pattern.findall(line):\n",
    "    print(findall('[%s]' % vowels, word) + '/t' + '1')\n",
    "    \n",
    "\n"
   ]
  },
  {
   "cell_type": "code",
   "execution_count": 11,
   "metadata": {
    "collapsed": false
   },
   "outputs": [],
   "source": [
    "pairing = \"1:235!4\"\n",
    "\n",
    "# Strip the ':' and the '!' to get the digits only as a string\n",
    "pairing_digits = re.sub('[:!]', '', pairing)\n",
    "\n",
    "# Get key of pairing as a string. It is before the : \n",
    "pairing_key = pairing.split(':')[0]\n",
    "\n",
    "# Get all information left of the '!'\n",
    "pairing_left = re.sub('[:]','',(pairing.split('!')[0]))\n",
    "pairing_left_regex = \"[\" + pairing_left + \"]\"\n",
    "\n",
    "# Length of digits will determine max length of exported key\n",
    "# Max export key will be all 9's and the same length. Max as a int\n",
    "digits_len = len(pairing_digits)\n",
    "max_export_key = int('9' * digits_len)\n",
    "\n",
    "# Exported keys must be at least two digits and unique digits. \n",
    "# We will start 12 will be our first possiblility\n",
    "# !!!! Might be able to minimize loop by thinking about where the export key could really start !!!\n",
    "export_key = 12\n",
    "\n",
    "\n"
   ]
  },
  {
   "cell_type": "code",
   "execution_count": null,
   "metadata": {
    "collapsed": true
   },
   "outputs": [],
   "source": [
    "while export_key <= max_export_key:\n",
    "    # When creating export keys our pairing_key must be in the number\n",
    "    # Export keys will also have no repeating numbers so we test for that second\n",
    "    if pairing_key in str(export_key) and len(str(export_key)) == len(set(str(export_key))):\n",
    "        \n",
    "        print (export_key)\n",
    "        print('Good')\n",
    "    export_key += 1\n",
    "print (max_export_key)"
   ]
  },
  {
   "cell_type": "code",
   "execution_count": 12,
   "metadata": {
    "collapsed": false
   },
   "outputs": [
    {
     "data": {
      "text/plain": [
       "'1235'"
      ]
     },
     "execution_count": 12,
     "metadata": {},
     "output_type": "execute_result"
    }
   ],
   "source": [
    "pairing_left"
   ]
  },
  {
   "cell_type": "code",
   "execution_count": 26,
   "metadata": {
    "collapsed": false
   },
   "outputs": [
    {
     "name": "stdout",
     "output_type": "stream",
     "text": [
      "4446789\n"
     ]
    }
   ],
   "source": [
    "regex_string = \"[\" + pairing_left + \"]\"\n",
    "export_value = str(re.sub(regex_string, '', '12341351354456789'))\n",
    "print (export_value)"
   ]
  },
  {
   "cell_type": "code",
   "execution_count": 24,
   "metadata": {
    "collapsed": false
   },
   "outputs": [
    {
     "data": {
      "text/plain": [
       "'[1235]'"
      ]
     },
     "execution_count": 24,
     "metadata": {},
     "output_type": "execute_result"
    }
   ],
   "source": [
    "regex_string"
   ]
  },
  {
   "cell_type": "code",
   "execution_count": null,
   "metadata": {
    "collapsed": true
   },
   "outputs": [],
   "source": []
  }
 ],
 "metadata": {
  "kernelspec": {
   "display_name": "Python 3",
   "language": "python",
   "name": "python3"
  },
  "language_info": {
   "codemirror_mode": {
    "name": "ipython",
    "version": 3
   },
   "file_extension": ".py",
   "mimetype": "text/x-python",
   "name": "python",
   "nbconvert_exporter": "python",
   "pygments_lexer": "ipython3",
   "version": "3.4.4"
  }
 },
 "nbformat": 4,
 "nbformat_minor": 0
}
